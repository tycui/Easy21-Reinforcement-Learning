{
 "cells": [
  {
   "cell_type": "code",
   "execution_count": 1,
   "metadata": {
    "collapsed": true
   },
   "outputs": [],
   "source": [
    "import pandas as pd\n",
    "from easy21enviroment import *"
   ]
  },
  {
   "cell_type": "code",
   "execution_count": 2,
   "metadata": {
    "collapsed": false
   },
   "outputs": [],
   "source": [
    "#check draw function\n",
    "def checkDraw(n):\n",
    "    a = []\n",
    "    b = []\n",
    "    allcard = [[1, 1], [2, 1], [3, 1], [4, 1], [5, 1], [6, 1], [7, 1], [8, 1], [9, 1], [10, 1], \n",
    "              [1, -1], [2, -1], [3, -1], [4, -1], [5, -1], [6, -1], [7, -1], [8, -1], [9, -1], [10, -1]]\n",
    "    for i in range(n):\n",
    "        a.append(list(draw()))\n",
    "    for i in allcard:\n",
    "        b.append(i + [float(a.count(i)) / n])\n",
    "    check = b\n",
    "    check = pd.DataFrame(check)\n",
    "    check.columns = ['CardNumber', 'CardColour', 'CardFrequency']\n",
    "\n",
    "    return check"
   ]
  },
  {
   "cell_type": "code",
   "execution_count": 60,
   "metadata": {
    "collapsed": false
   },
   "outputs": [],
   "source": [
    "filef.to_csv('checkDraw', index = False)"
   ]
  },
  {
   "cell_type": "code",
   "execution_count": 20,
   "metadata": {
    "collapsed": false
   },
   "outputs": [
    {
     "name": "stderr",
     "output_type": "stream",
     "text": [
      "/Users/tianyucui/anaconda/lib/python2.7/site-packages/ipykernel/__main__.py:13: FutureWarning: sort(columns=....) is deprecated, use sort_values(by=.....)\n"
     ]
    }
   ],
   "source": [
    "#check step function\n",
    "def checkStep(s, a, n):\n",
    "    sample = []\n",
    "    check = []\n",
    "    for i in range(n):\n",
    "        r1, r2, r3 = step(s, a)\n",
    "        sample.append([(r1, r2)])\n",
    "    result = [list(x) for x in set(tuple(x) for x in sample)]\n",
    "    for i in result:\n",
    "        check.append([i[0][0][0]] + [i[0][0][1]] + [i[0][1]] + [float(sample.count(i)) / n])\n",
    "    check = pd.DataFrame(check)\n",
    "    check.columns = ['DealerCard', 'PlayerSum', 'Reward', 'Frequency']\n",
    "    check = check.sort(['DealerCard', 'PlayerSum', 'Reward'], ascending=[1, 1, 1])\n",
    "    return check\n",
    "check1 = checkStep([1, 1], 0, 1000)\n",
    "check2 = checkStep([1, 10], 0, 1000)\n",
    "check3 = checkStep([1, 18], 1, 1000)\n",
    "check4 = checkStep([10, 15], 1, 1000)"
   ]
  },
  {
   "cell_type": "code",
   "execution_count": 21,
   "metadata": {
    "collapsed": false
   },
   "outputs": [],
   "source": [
    "check1.to_csv('checkStepDealer1Player1Action0', index = False)\n",
    "check2.to_csv('checkStepDealer1Player10Action0', index = False)\n",
    "check3.to_csv('checkStepDealer1Player18Action1', index = False)\n",
    "check4.to_csv('checkStepDealer10Player15Action1', index = False)"
   ]
  },
  {
   "cell_type": "code",
   "execution_count": null,
   "metadata": {
    "collapsed": true
   },
   "outputs": [],
   "source": []
  }
 ],
 "metadata": {
  "kernelspec": {
   "display_name": "Python 2",
   "language": "python",
   "name": "python2"
  },
  "language_info": {
   "codemirror_mode": {
    "name": "ipython",
    "version": 2
   },
   "file_extension": ".py",
   "mimetype": "text/x-python",
   "name": "python",
   "nbconvert_exporter": "python",
   "pygments_lexer": "ipython2",
   "version": "2.7.11"
  }
 },
 "nbformat": 4,
 "nbformat_minor": 0
}
